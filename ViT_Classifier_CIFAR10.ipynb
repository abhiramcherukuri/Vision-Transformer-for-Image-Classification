{
 "cells": [
  {
   "cell_type": "code",
   "execution_count": 1,
   "id": "d395becd",
   "metadata": {},
   "outputs": [
    {
     "name": "stderr",
     "output_type": "stream",
     "text": [
      "C:\\Users\\abhir\\anaconda3\\Lib\\site-packages\\tensorflow_addons\\utils\\tfa_eol_msg.py:23: UserWarning: \n",
      "\n",
      "TensorFlow Addons (TFA) has ended development and introduction of new features.\n",
      "TFA has entered a minimal maintenance and release mode until a planned end of life in May 2024.\n",
      "Please modify downstream libraries to take dependencies from other repositories in our TensorFlow community (e.g. Keras, Keras-CV, and Keras-NLP). \n",
      "\n",
      "For more information see: https://github.com/tensorflow/addons/issues/2807 \n",
      "\n",
      "  warnings.warn(\n"
     ]
    }
   ],
   "source": [
    "import numpy as np\n",
    "import tensorflow as tf\n",
    "from tensorflow import keras\n",
    "from tensorflow.keras import layers\n",
    "import tensorflow_addons as tfa\n"
   ]
  },
  {
   "cell_type": "code",
   "execution_count": 2,
   "id": "c64f5560",
   "metadata": {},
   "outputs": [
    {
     "name": "stdout",
     "output_type": "stream",
     "text": [
      "x_train shape : (50000, 32, 32, 3) - y_train shape : (50000, 1)\n",
      "x_test shape : (10000, 32, 32, 3) - y_test shape : (10000, 1)\n"
     ]
    }
   ],
   "source": [
    "num_classes = 10\n",
    "input_shape = (32, 32, 3)\n",
    "\n",
    "(x_train, y_train), (x_test, y_test) = keras.datasets.cifar10.load_data()\n",
    "\n",
    "print(f\"x_train shape : {x_train.shape} - y_train shape : {y_train.shape}\")\n",
    "print(f\"x_test shape : {x_test.shape} - y_test shape : {y_test.shape}\")\n"
   ]
  },
  {
   "cell_type": "code",
   "execution_count": 3,
   "id": "c8d2d3e0",
   "metadata": {},
   "outputs": [],
   "source": [
    "x_train = x_train[:500]\n",
    "y_train = y_train[:500]\n",
    "x_test = x_test[:500]\n",
    "y_test = y_test[:500]\n"
   ]
  },
  {
   "cell_type": "code",
   "execution_count": 4,
   "id": "084bd9a5",
   "metadata": {},
   "outputs": [],
   "source": [
    "learning_rate = 0.001\n",
    "weight_decay = 0.0001\n",
    "batch_size = 256\n",
    "num_epochs = 40\n",
    "image_size = 72 # We'll resize input images to this size.\n",
    "patch_size = 6\n",
    "num_patches = (image_size//patch_size)**2\n",
    "num_heads = 4\n",
    "projection_dim = 64\n",
    "transformer_units = [\n",
    "    projection_dim*2,\n",
    "    projection_dim\n",
    "] # Size of the transformer layers.\n",
    "transformer_layers = 8\n",
    "mlp_head_units = [2048, 1024] # Size of the dense layers of the final classifier."
   ]
  },
  {
   "cell_type": "code",
   "execution_count": 5,
   "id": "ebb35a9c",
   "metadata": {},
   "outputs": [],
   "source": [
    "data_augmentation = keras.Sequential(\n",
    "    [\n",
    "        layers.Normalization(),\n",
    "        layers.Resizing(image_size, image_size),\n",
    "        layers.RandomFlip(\"horizontal\"),\n",
    "        layers.RandomRotation(factor=0.02),\n",
    "        layers.RandomZoom(\n",
    "            height_factor=0.2, width_factor=0.2\n",
    "        )\n",
    "    ],\n",
    "    name=\"data_augmentation\"\n",
    ")\n",
    "data_augmentation.layers[0].adapt(x_train)"
   ]
  },
  {
   "cell_type": "code",
   "execution_count": 6,
   "id": "769943a7",
   "metadata": {},
   "outputs": [],
   "source": [
    "def mlp(x, hidden_units, dropout_rate):\n",
    "    for units in hidden_units:\n",
    "        x = layers.Dense(units, activation=tf.nn.gelu)(x)\n",
    "        x = layers.Dropout(dropout_rate)(x)\n",
    "    return x\n"
   ]
  },
  {
   "cell_type": "code",
   "execution_count": 7,
   "id": "c74d8df4",
   "metadata": {},
   "outputs": [],
   "source": [
    "class Patches(layers.Layer):\n",
    "    def __init__(self, patch_size):\n",
    "        super(Patches, self).__init__()\n",
    "        self.patch_size = patch_size\n",
    "        \n",
    "    def call(self, images):\n",
    "        batch_size = tf.shape(images)[0]\n",
    "        patches = tf.image.extract_patches(\n",
    "            images = images,\n",
    "            sizes = [1, self.patch_size, self.patch_size, 1],\n",
    "            strides = [1, self.patch_size, self.patch_size, 1],\n",
    "            rates = [1, 1, 1, 1],\n",
    "            padding = \"VALID\"\n",
    "        )\n",
    "        patch_dims = patches.shape[-1]\n",
    "        patches = tf.reshape(patches, [batch_size, -1, patch_dims])\n",
    "        return patches"
   ]
  },
  {
   "cell_type": "code",
   "execution_count": 8,
   "id": "31359c69",
   "metadata": {},
   "outputs": [
    {
     "name": "stdout",
     "output_type": "stream",
     "text": [
      "Image Size : 72 X 72\n",
      "Patch Size : 6 X 6\n",
      "Patches per Image : 144\n",
      "Elements per Patch : 108\n"
     ]
    },
    {
     "data": {
      "image/png": "[encoded data removed]",
      "text/plain": [
       "<Figure size 400x400 with 1 Axes>"
      ]
     },
     "metadata": {},
     "output_type": "display_data"
    },
    {
     "data": {
      "image/png": "[encoded data removed]",
      "text/plain": [
       "<Figure size 400x400 with 144 Axes>"
      ]
     },
     "metadata": {},
     "output_type": "display_data"
    }
   ],
   "source": [
    "import matplotlib.pyplot as plt\n",
    "\n",
    "plt.figure(figsize=(4, 4))\n",
    "image = x_train[np.random.choice(range(x_train.shape[0]))]\n",
    "plt.imshow(image.astype(\"uint8\"))\n",
    "plt.axis(\"off\")\n",
    "\n",
    "resized_image = tf.image.resize(\n",
    "    tf.convert_to_tensor([image]), size=(image_size, image_size)\n",
    ")\n",
    "patches = Patches(patch_size)(resized_image)\n",
    "print(f\"Image Size : {image_size} X {image_size}\")\n",
    "print(f\"Patch Size : {patch_size} X {patch_size}\")\n",
    "print(f\"Patches per Image : {patches.shape[1]}\")\n",
    "print(f\"Elements per Patch : {patches.shape[-1]}\")\n",
    "\n",
    "n = int(np.sqrt(patches.shape[1]))\n",
    "plt.figure(figsize=(4, 4))\n",
    "for i, patch in enumerate(patches[0]):\n",
    "    ax = plt.subplot(n, n, i+1)\n",
    "    patch_img = tf.reshape(patch, (patch_size, patch_size, 3))\n",
    "    plt.imshow(patch_img.numpy().astype(\"uint8\"))\n",
    "    plt.axis(\"off\")\n"
   ]
  },
  {
   "cell_type": "code",
   "execution_count": 9,
   "id": "4122d593",
   "metadata": {},
   "outputs": [],
   "source": [
    "class PatchEncoder(layers.Layer):\n",
    "    def __init__(self, num_patches, projection_dim):\n",
    "        super(PatchEncoder, self).__init__()\n",
    "        self.num_patches = num_patches\n",
    "        self.projection = layers.Dense(units=projection_dim)\n",
    "        self.position_embedding = layers.Embedding(\n",
    "            input_dim = num_patches,\n",
    "            output_dim = projection_dim\n",
    "        )\n",
    "        \n",
    "    def call(self, patch):\n",
    "        positions = tf.range(start=0, limit=self.num_patches, delta=1)\n",
    "        encoded = self.projection(patch)+self.position_embedding(positions)\n",
    "        return encoded\n",
    "    "
   ]
  },
  {
   "cell_type": "code",
   "execution_count": 10,
   "id": "c8d7df3f",
   "metadata": {},
   "outputs": [],
   "source": [
    "def create_vit_classifier():\n",
    "    inputs = layers.Input(shape=input_shape)\n",
    "    # Augment Data.\n",
    "    augmented = data_augmentation(inputs)\n",
    "    # Create Patches.\n",
    "    patches = Patches(patch_size)(augmented)\n",
    "    # Encode Patches.\n",
    "    encoded_patches = PatchEncoder(num_patches, projection_dim)(patches)\n",
    "    \n",
    "    # Create multiple layers of the Transformer Block.\n",
    "    for _ in range(transformer_layers):\n",
    "        # Layer Normalization 1.\n",
    "        x1 = layers.LayerNormalization(epsilon=1e-6)(encoded_patches)\n",
    "        attention_output = layers.MultiHeadAttention(\n",
    "            num_heads=num_heads,\n",
    "            key_dim=projection_dim,\n",
    "            dropout=0.1\n",
    "        )(x1, x1)\n",
    "        # Skip Connection 1.\n",
    "        x2 = layers.Add()([attention_output, encoded_patches])\n",
    "        #Layer Normalization 2.\n",
    "        x3 = layers.LayerNormalization(epsilon=1e-6)(x2)\n",
    "        # MLP.\n",
    "        x3 = mlp(x3, hidden_units=transformer_units, dropout_rate=0.1)\n",
    "        # Skip Connection 2.\n",
    "        encoded_patches = layers.Add()([x3, x2])\n",
    "        \n",
    "    # Create a [batch_size, projection_dim] tensor.\n",
    "    representation = layers.LayerNormalization(epsilon=1e-6)(encoded_patches)\n",
    "    representation = layers.Flatten()(representation)\n",
    "    representation = layers.Dropout(0.5)(representation)\n",
    "    # Add MLP.\n",
    "    features = mlp(representation, hidden_units=mlp_head_units, dropout_rate=0.5)\n",
    "    # Classify Outputs.\n",
    "    logits = layers.Dense(num_classes)(features)\n",
    "    # Create the Keras Model.\n",
    "    model = keras.Model(inputs=inputs, outputs=logits)\n",
    "    return model\n"
   ]
  },
  {
   "cell_type": "code",
   "execution_count": 11,
   "id": "981667b1",
   "metadata": {},
   "outputs": [],
   "source": [
    "def run_experiment(model):\n",
    "    optimizer = tfa.optimizers.AdamW(\n",
    "        learning_rate=learning_rate, weight_decay=weight_decay\n",
    "    )\n",
    "    \n",
    "    model.compile(\n",
    "        optimizer=optimizer,\n",
    "        loss=keras.losses.SparseCategoricalCrossentropy(from_logits=True),\n",
    "        metrics=[\n",
    "            keras.metrics.SparseCategoricalAccuracy(name=\"accuracy\"),\n",
    "            keras.metrics.SparseTopKCategoricalAccuracy(5, name=\"top-5-accuracy\")\n",
    "        ]\n",
    "    )\n",
    "    \n",
    "    checkpoint_filepath = \"./tmp/checkpoint\"\n",
    "    checkpoint_callback = keras.callbacks.ModelCheckpoint(\n",
    "        checkpoint_filepath,\n",
    "        monitor=\"val_accuracy\",\n",
    "        save_best_only = True,\n",
    "        save_weights_only = True\n",
    "    )\n",
    "    \n",
    "    history = model.fit(\n",
    "        x = x_train,\n",
    "        y = y_train,\n",
    "        batch_size = batch_size,\n",
    "        epochs = num_epochs,\n",
    "        validation_split=0.1,\n",
    "        callbacks = [checkpoint_callback]\n",
    "    )\n",
    "    \n",
    "    model.load_weights(checkpoint_filepath)\n",
    "    _, accuracy, top_5_accuracy = model.evaluate(x_test, y_test)\n",
    "    print(f\"Test Accuracy : {round(accuracy*100, 2)}%\")\n",
    "    print(f\"Test Top 5 Accuracy : {round(top_5_accuracy*100, 2)}%\")\n",
    "    "
   ]
  },
  {
   "cell_type": "code",
   "execution_count": 12,
   "id": "eb4855d7",
   "metadata": {},
   "outputs": [
    {
     "name": "stdout",
     "output_type": "stream",
     "text": [
      "Epoch 1/40\n",
      "2/2 [==============================] - 23s 9s/step - loss: 6.1095 - accuracy: 0.1044 - top-5-accuracy: 0.5422 - val_loss: 4.4147 - val_accuracy: 0.1800 - val_top-5-accuracy: 0.7000\n",
      "Epoch 2/40\n",
      "2/2 [==============================] - 11s 5s/step - loss: 5.3466 - accuracy: 0.1711 - top-5-accuracy: 0.6311 - val_loss: 3.9527 - val_accuracy: 0.1800 - val_top-5-accuracy: 0.5800\n",
      "Epoch 3/40\n",
      "2/2 [==============================] - 11s 5s/step - loss: 4.1971 - accuracy: 0.1756 - top-5-accuracy: 0.6644 - val_loss: 2.3698 - val_accuracy: 0.1600 - val_top-5-accuracy: 0.7000\n",
      "Epoch 4/40\n",
      "2/2 [==============================] - 12s 6s/step - loss: 3.0261 - accuracy: 0.2400 - top-5-accuracy: 0.6978 - val_loss: 2.1615 - val_accuracy: 0.2200 - val_top-5-accuracy: 0.7000\n",
      "Epoch 5/40\n",
      "2/2 [==============================] - 11s 5s/step - loss: 2.5064 - accuracy: 0.2933 - top-5-accuracy: 0.7267 - val_loss: 2.1497 - val_accuracy: 0.1600 - val_top-5-accuracy: 0.7200\n",
      "Epoch 6/40\n",
      "2/2 [==============================] - 11s 5s/step - loss: 2.3737 - accuracy: 0.2756 - top-5-accuracy: 0.7467 - val_loss: 1.9860 - val_accuracy: 0.2000 - val_top-5-accuracy: 0.8400\n",
      "Epoch 7/40\n",
      "2/2 [==============================] - 11s 5s/step - loss: 2.2420 - accuracy: 0.2533 - top-5-accuracy: 0.7822 - val_loss: 1.9655 - val_accuracy: 0.1600 - val_top-5-accuracy: 0.7800\n",
      "Epoch 8/40\n",
      "2/2 [==============================] - 11s 5s/step - loss: 2.2331 - accuracy: 0.2289 - top-5-accuracy: 0.7911 - val_loss: 1.9491 - val_accuracy: 0.2000 - val_top-5-accuracy: 0.8000\n",
      "Epoch 9/40\n",
      "2/2 [==============================] - 12s 6s/step - loss: 2.0991 - accuracy: 0.3444 - top-5-accuracy: 0.8022 - val_loss: 1.9058 - val_accuracy: 0.2600 - val_top-5-accuracy: 0.7800\n",
      "Epoch 10/40\n",
      "2/2 [==============================] - 12s 6s/step - loss: 1.9351 - accuracy: 0.3356 - top-5-accuracy: 0.8111 - val_loss: 1.8510 - val_accuracy: 0.2600 - val_top-5-accuracy: 0.8200\n",
      "Epoch 11/40\n",
      "2/2 [==============================] - 11s 5s/step - loss: 1.8912 - accuracy: 0.3711 - top-5-accuracy: 0.8489 - val_loss: 1.8717 - val_accuracy: 0.2600 - val_top-5-accuracy: 0.8400\n",
      "Epoch 12/40\n",
      "2/2 [==============================] - 13s 7s/step - loss: 1.8502 - accuracy: 0.3467 - top-5-accuracy: 0.8489 - val_loss: 1.8963 - val_accuracy: 0.2400 - val_top-5-accuracy: 0.7800\n",
      "Epoch 13/40\n",
      "2/2 [==============================] - 41s 13s/step - loss: 1.8917 - accuracy: 0.3844 - top-5-accuracy: 0.8467 - val_loss: 1.9030 - val_accuracy: 0.2600 - val_top-5-accuracy: 0.8400\n",
      "Epoch 14/40\n",
      "2/2 [==============================] - 18s 7s/step - loss: 1.8157 - accuracy: 0.3756 - top-5-accuracy: 0.8533 - val_loss: 1.9302 - val_accuracy: 0.2600 - val_top-5-accuracy: 0.7800\n",
      "Epoch 15/40\n",
      "2/2 [==============================] - 12s 6s/step - loss: 1.6202 - accuracy: 0.4378 - top-5-accuracy: 0.9067 - val_loss: 1.9030 - val_accuracy: 0.2200 - val_top-5-accuracy: 0.7400\n",
      "Epoch 16/40\n",
      "2/2 [==============================] - 11s 5s/step - loss: 1.6733 - accuracy: 0.4444 - top-5-accuracy: 0.8867 - val_loss: 1.8814 - val_accuracy: 0.2400 - val_top-5-accuracy: 0.7800\n",
      "Epoch 17/40\n",
      "2/2 [==============================] - 12s 5s/step - loss: 1.6045 - accuracy: 0.4222 - top-5-accuracy: 0.9067 - val_loss: 1.8410 - val_accuracy: 0.2000 - val_top-5-accuracy: 0.8400\n",
      "Epoch 18/40\n",
      "2/2 [==============================] - 12s 5s/step - loss: 1.6049 - accuracy: 0.4400 - top-5-accuracy: 0.9111 - val_loss: 1.8164 - val_accuracy: 0.2400 - val_top-5-accuracy: 0.8200\n",
      "Epoch 19/40\n",
      "2/2 [==============================] - 13s 6s/step - loss: 1.4783 - accuracy: 0.4800 - top-5-accuracy: 0.9267 - val_loss: 1.8349 - val_accuracy: 0.2800 - val_top-5-accuracy: 0.7800\n",
      "Epoch 20/40\n",
      "2/2 [==============================] - 12s 6s/step - loss: 1.3844 - accuracy: 0.5000 - top-5-accuracy: 0.9378 - val_loss: 1.8598 - val_accuracy: 0.2400 - val_top-5-accuracy: 0.8200\n",
      "Epoch 21/40\n",
      "2/2 [==============================] - 13s 6s/step - loss: 1.4073 - accuracy: 0.5178 - top-5-accuracy: 0.9333 - val_loss: 1.8556 - val_accuracy: 0.3000 - val_top-5-accuracy: 0.8600\n",
      "Epoch 22/40\n",
      "2/2 [==============================] - 12s 6s/step - loss: 1.3957 - accuracy: 0.5244 - top-5-accuracy: 0.9356 - val_loss: 1.9086 - val_accuracy: 0.3200 - val_top-5-accuracy: 0.8400\n",
      "Epoch 23/40\n",
      "2/2 [==============================] - 11s 5s/step - loss: 1.2601 - accuracy: 0.5822 - top-5-accuracy: 0.9489 - val_loss: 1.9422 - val_accuracy: 0.2800 - val_top-5-accuracy: 0.8600\n",
      "Epoch 24/40\n",
      "2/2 [==============================] - 11s 5s/step - loss: 1.2571 - accuracy: 0.5667 - top-5-accuracy: 0.9444 - val_loss: 1.9394 - val_accuracy: 0.2600 - val_top-5-accuracy: 0.8600\n",
      "Epoch 25/40\n",
      "2/2 [==============================] - 11s 5s/step - loss: 1.1251 - accuracy: 0.6067 - top-5-accuracy: 0.9556 - val_loss: 1.9673 - val_accuracy: 0.2600 - val_top-5-accuracy: 0.8600\n",
      "Epoch 26/40\n",
      "2/2 [==============================] - 11s 5s/step - loss: 1.1114 - accuracy: 0.6289 - top-5-accuracy: 0.9756 - val_loss: 2.0314 - val_accuracy: 0.2400 - val_top-5-accuracy: 0.8200\n",
      "Epoch 27/40\n",
      "2/2 [==============================] - 12s 5s/step - loss: 1.0829 - accuracy: 0.6400 - top-5-accuracy: 0.9622 - val_loss: 2.1128 - val_accuracy: 0.2800 - val_top-5-accuracy: 0.8400\n",
      "Epoch 28/40\n",
      "2/2 [==============================] - 12s 6s/step - loss: 1.0637 - accuracy: 0.6022 - top-5-accuracy: 0.9644 - val_loss: 2.1579 - val_accuracy: 0.2800 - val_top-5-accuracy: 0.8600\n",
      "Epoch 29/40\n",
      "2/2 [==============================] - 12s 5s/step - loss: 1.1196 - accuracy: 0.6200 - top-5-accuracy: 0.9756 - val_loss: 2.2336 - val_accuracy: 0.2600 - val_top-5-accuracy: 0.8400\n",
      "Epoch 30/40\n",
      "2/2 [==============================] - 12s 6s/step - loss: 0.9344 - accuracy: 0.6756 - top-5-accuracy: 0.9867 - val_loss: 2.3329 - val_accuracy: 0.2400 - val_top-5-accuracy: 0.9000\n",
      "Epoch 31/40\n",
      "2/2 [==============================] - 12s 6s/step - loss: 0.9752 - accuracy: 0.6644 - top-5-accuracy: 0.9778 - val_loss: 2.2583 - val_accuracy: 0.2400 - val_top-5-accuracy: 0.9000\n",
      "Epoch 32/40\n",
      "2/2 [==============================] - 12s 5s/step - loss: 0.9696 - accuracy: 0.6578 - top-5-accuracy: 0.9778 - val_loss: 2.2359 - val_accuracy: 0.2400 - val_top-5-accuracy: 0.8600\n",
      "Epoch 33/40\n",
      "2/2 [==============================] - 12s 5s/step - loss: 0.9292 - accuracy: 0.6756 - top-5-accuracy: 0.9689 - val_loss: 2.2858 - val_accuracy: 0.2200 - val_top-5-accuracy: 0.8600\n",
      "Epoch 34/40\n",
      "2/2 [==============================] - 12s 6s/step - loss: 0.8307 - accuracy: 0.6911 - top-5-accuracy: 0.9844 - val_loss: 2.4158 - val_accuracy: 0.2600 - val_top-5-accuracy: 0.8200\n",
      "Epoch 35/40\n",
      "2/2 [==============================] - 12s 6s/step - loss: 0.8310 - accuracy: 0.7044 - top-5-accuracy: 0.9867 - val_loss: 2.4577 - val_accuracy: 0.2600 - val_top-5-accuracy: 0.8600\n",
      "Epoch 36/40\n",
      "2/2 [==============================] - 13s 6s/step - loss: 0.7985 - accuracy: 0.7244 - top-5-accuracy: 0.9933 - val_loss: 2.5265 - val_accuracy: 0.2800 - val_top-5-accuracy: 0.8800\n",
      "Epoch 37/40\n",
      "2/2 [==============================] - 13s 6s/step - loss: 0.7776 - accuracy: 0.7200 - top-5-accuracy: 0.9956 - val_loss: 2.5419 - val_accuracy: 0.2400 - val_top-5-accuracy: 0.8200\n",
      "Epoch 38/40\n",
      "2/2 [==============================] - 12s 6s/step - loss: 0.7363 - accuracy: 0.7200 - top-5-accuracy: 0.9911 - val_loss: 2.5320 - val_accuracy: 0.2800 - val_top-5-accuracy: 0.8200\n",
      "Epoch 39/40\n",
      "2/2 [==============================] - 13s 6s/step - loss: 0.6543 - accuracy: 0.7644 - top-5-accuracy: 0.9889 - val_loss: 2.6277 - val_accuracy: 0.3200 - val_top-5-accuracy: 0.8400\n",
      "Epoch 40/40\n",
      "2/2 [==============================] - 12s 6s/step - loss: 0.6181 - accuracy: 0.7778 - top-5-accuracy: 0.9978 - val_loss: 2.8412 - val_accuracy: 0.3000 - val_top-5-accuracy: 0.8800\n",
      "16/16 [==============================] - 7s 416ms/step - loss: 1.9760 - accuracy: 0.3100 - top-5-accuracy: 0.8280\n",
      "Test Accuracy : 31.0%\n",
      "Test Top 5 Accuracy : 82.8%\n"
     ]
    }
   ],
   "source": [
    "vit_classifier = create_vit_classifier()\n",
    "history = run_experiment(vit_classifier)"
   ]
  },
  {
   "cell_type": "code",
   "execution_count": 18,
   "id": "91b11393",
   "metadata": {},
   "outputs": [],
   "source": [
    "class_names = [\n",
    "    'airplane',\n",
    "    'automobile',\n",
    "    'bird',\n",
    "    'car',\n",
    "    'deer',\n",
    "    'dog',\n",
    "    'frog',\n",
    "    'horse',\n",
    "    'ship',\n",
    "    'truck'\n",
    "]"
   ]
  },
  {
   "cell_type": "code",
   "execution_count": 19,
   "id": "8fa71451",
   "metadata": {},
   "outputs": [],
   "source": [
    "def img_predict(images, model):\n",
    "    if len(images.shape)==3:\n",
    "        out = model.predict(images.reshape(-1, *images.shape))\n",
    "    else:\n",
    "        out = model.predict(images)\n",
    "    prediction = np.argmax(out, axis=1)\n",
    "    img_prediction = [class_names[i] for i in prediction]\n",
    "    return img_prediction"
   ]
  },
  {
   "cell_type": "code",
   "execution_count": 20,
   "id": "08995253",
   "metadata": {},
   "outputs": [
    {
     "name": "stdout",
     "output_type": "stream",
     "text": [
      "1/1 [==============================] - 0s 36ms/step\n",
      "['airplane']\n"
     ]
    },
    {
     "data": {
      "image/png": "[encoded data removed]",
      "text/plain": [
       "<Figure size 640x480 with 1 Axes>"
      ]
     },
     "metadata": {},
     "output_type": "display_data"
    }
   ],
   "source": [
    "index = 14\n",
    "plt.imshow(x_test[index])\n",
    "prediction = img_predict(x_test[index], vit_classifier)\n",
    "print(prediction)"
   ]
  }
 ],
 "metadata": {
  "kernelspec": {
   "display_name": "Python 3 (ipykernel)",
   "language": "python",
   "name": "python3"
  },
  "language_info": {
   "codemirror_mode": {
    "name": "ipython",
    "version": 3
   },
   "file_extension": ".py",
   "mimetype": "text/x-python",
   "name": "python",
   "nbconvert_exporter": "python",
   "pygments_lexer": "ipython3",
   "version": "3.11.5"
  }
 },
 "nbformat": 4,
 "nbformat_minor": 5
}
